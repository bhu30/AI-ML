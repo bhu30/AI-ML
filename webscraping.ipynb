{
  "nbformat": 4,
  "nbformat_minor": 0,
  "metadata": {
    "colab": {
      "provenance": []
    },
    "kernelspec": {
      "name": "python3",
      "display_name": "Python 3"
    },
    "language_info": {
      "name": "python"
    }
  },
  "cells": [
    {
      "cell_type": "code",
      "source": [
        "import requests\n",
        "from bs4 import BeautifulSoup\n"
      ],
      "metadata": {
        "id": "YPrE09vr1Pij"
      },
      "execution_count": 41,
      "outputs": []
    },
    {
      "cell_type": "code",
      "source": [
        "url=\"http://books.toscrape.com\""
      ],
      "metadata": {
        "id": "2LL2mIPk1zTV"
      },
      "execution_count": 47,
      "outputs": []
    },
    {
      "cell_type": "code",
      "source": [
        "response=requests.get(url)"
      ],
      "metadata": {
        "id": "rPHG865z2BeQ"
      },
      "execution_count": 48,
      "outputs": []
    },
    {
      "cell_type": "code",
      "source": [
        "soup=BeautifulSoup(response.text,'html.parser')"
      ],
      "metadata": {
        "id": "NfwdO-fm2H05"
      },
      "execution_count": 49,
      "outputs": []
    },
    {
      "cell_type": "code",
      "source": [
        "books=soup.find_all('article',class_='product_pod')"
      ],
      "metadata": {
        "id": "6qgdqXFi2PXK"
      },
      "execution_count": 50,
      "outputs": []
    },
    {
      "cell_type": "code",
      "source": [
        "# Find all book containers\n",
        "book_data = []\n",
        "books = soup.find_all('article', class_='product_pod')\n",
        "\n",
        "for book in books:\n",
        "    title = book.h3.a['title']\n",
        "    price = book.find('p', class_='price_color').text\n",
        "    print(f\"Title: {title}\\nPrice: {price}\\n\")\n",
        "    book_data.append({\"Title\": title, \"Price\": price})"
      ],
      "metadata": {
        "colab": {
          "base_uri": "https://localhost:8080/"
        },
        "id": "qmNzs5PO76q4",
        "outputId": "d6b18e98-d18d-4ae2-9ce2-8b339d9ea63f"
      },
      "execution_count": 54,
      "outputs": [
        {
          "output_type": "stream",
          "name": "stdout",
          "text": [
            "Title: A Light in the Attic\n",
            "Price: Â£51.77\n",
            "\n",
            "Title: Tipping the Velvet\n",
            "Price: Â£53.74\n",
            "\n",
            "Title: Soumission\n",
            "Price: Â£50.10\n",
            "\n",
            "Title: Sharp Objects\n",
            "Price: Â£47.82\n",
            "\n",
            "Title: Sapiens: A Brief History of Humankind\n",
            "Price: Â£54.23\n",
            "\n",
            "Title: The Requiem Red\n",
            "Price: Â£22.65\n",
            "\n",
            "Title: The Dirty Little Secrets of Getting Your Dream Job\n",
            "Price: Â£33.34\n",
            "\n",
            "Title: The Coming Woman: A Novel Based on the Life of the Infamous Feminist, Victoria Woodhull\n",
            "Price: Â£17.93\n",
            "\n",
            "Title: The Boys in the Boat: Nine Americans and Their Epic Quest for Gold at the 1936 Berlin Olympics\n",
            "Price: Â£22.60\n",
            "\n",
            "Title: The Black Maria\n",
            "Price: Â£52.15\n",
            "\n",
            "Title: Starving Hearts (Triangular Trade Trilogy, #1)\n",
            "Price: Â£13.99\n",
            "\n",
            "Title: Shakespeare's Sonnets\n",
            "Price: Â£20.66\n",
            "\n",
            "Title: Set Me Free\n",
            "Price: Â£17.46\n",
            "\n",
            "Title: Scott Pilgrim's Precious Little Life (Scott Pilgrim #1)\n",
            "Price: Â£52.29\n",
            "\n",
            "Title: Rip it Up and Start Again\n",
            "Price: Â£35.02\n",
            "\n",
            "Title: Our Band Could Be Your Life: Scenes from the American Indie Underground, 1981-1991\n",
            "Price: Â£57.25\n",
            "\n",
            "Title: Olio\n",
            "Price: Â£23.88\n",
            "\n",
            "Title: Mesaerion: The Best Science Fiction Stories 1800-1849\n",
            "Price: Â£37.59\n",
            "\n",
            "Title: Libertarianism for Beginners\n",
            "Price: Â£51.33\n",
            "\n",
            "Title: It's Only the Himalayas\n",
            "Price: Â£45.17\n",
            "\n"
          ]
        }
      ]
    },
    {
      "cell_type": "code",
      "source": [
        "df = pd.DataFrame(book_data)\n",
        "\n",
        "# Optional: Display the DataFrame\n",
        "print(df)"
      ],
      "metadata": {
        "colab": {
          "base_uri": "https://localhost:8080/"
        },
        "id": "WoJraRvQ8C9w",
        "outputId": "6f2e3e9b-a536-45d9-a45c-d320f251bcf3"
      },
      "execution_count": 55,
      "outputs": [
        {
          "output_type": "stream",
          "name": "stdout",
          "text": [
            "                                                Title    Price\n",
            "0                                A Light in the Attic  Â£51.77\n",
            "1                                  Tipping the Velvet  Â£53.74\n",
            "2                                          Soumission  Â£50.10\n",
            "3                                       Sharp Objects  Â£47.82\n",
            "4               Sapiens: A Brief History of Humankind  Â£54.23\n",
            "5                                     The Requiem Red  Â£22.65\n",
            "6   The Dirty Little Secrets of Getting Your Dream...  Â£33.34\n",
            "7   The Coming Woman: A Novel Based on the Life of...  Â£17.93\n",
            "8   The Boys in the Boat: Nine Americans and Their...  Â£22.60\n",
            "9                                     The Black Maria  Â£52.15\n",
            "10     Starving Hearts (Triangular Trade Trilogy, #1)  Â£13.99\n",
            "11                              Shakespeare's Sonnets  Â£20.66\n",
            "12                                        Set Me Free  Â£17.46\n",
            "13  Scott Pilgrim's Precious Little Life (Scott Pi...  Â£52.29\n",
            "14                          Rip it Up and Start Again  Â£35.02\n",
            "15  Our Band Could Be Your Life: Scenes from the A...  Â£57.25\n",
            "16                                               Olio  Â£23.88\n",
            "17  Mesaerion: The Best Science Fiction Stories 18...  Â£37.59\n",
            "18                       Libertarianism for Beginners  Â£51.33\n",
            "19                            It's Only the Himalayas  Â£45.17\n"
          ]
        }
      ]
    }
  ]
}